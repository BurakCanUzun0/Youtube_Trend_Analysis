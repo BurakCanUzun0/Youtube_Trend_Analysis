{
 "cells": [
  {
   "cell_type": "code",
   "execution_count": 1,
   "metadata": {
    "collapsed": true,
    "ExecuteTime": {
     "end_time": "2023-05-20T12:52:52.652927Z",
     "start_time": "2023-05-20T12:52:47.638946Z"
    }
   },
   "outputs": [],
   "source": [
    "import pandas as pd\n",
    "import numpy as np\n",
    "df = pd.read_csv(\"US_youtube_trending_data.csv\")"
   ]
  },
  {
   "cell_type": "code",
   "execution_count": 2,
   "outputs": [
    {
     "data": {
      "text/plain": "      video_id                                              title   \n0  3C66w5Z0ixs                 I ASKED HER TO BE MY GIRLFRIEND...  \\\n1  M9Pmf9AB4Mo  Apex Legends | Stories from the Outlands – “Th...   \n2  J78aPJ3VyNs  I left youtube for a month and THIS is what ha...   \n3  kXLn3HkpjaA  XXL 2020 Freshman Class Revealed - Official An...   \n4  VIUo6yapDbc  Ultimate DIY Home Movie Theater for The LaBran...   \n\n            publishedAt                 channelId   channelTitle  categoryId   \n0  2020-08-11T19:20:14Z  UCvtRTOMP2TqYqu51xNrqAzg       Brawadis          22  \\\n1  2020-08-11T17:00:10Z  UC0ZV6M2THA81QT9hrVWJG3A   Apex Legends          20   \n2  2020-08-11T16:34:06Z  UCYzPXprvl5Y-Sf0g4vX-m6g  jacksepticeye          24   \n3  2020-08-11T16:38:55Z  UCbg_UMjlHJg_19SZckaKajg            XXL          10   \n4  2020-08-11T15:10:05Z  UCDVPcEbVLQgLZX0Rt6jo34A       Mr. Kate          26   \n\n          trending_date                                               tags   \n0  2020-08-12T00:00:00Z  brawadis|prank|basketball|skits|ghost|funny vi...  \\\n1  2020-08-12T00:00:00Z  Apex Legends|Apex Legends characters|new Apex ...   \n2  2020-08-12T00:00:00Z  jacksepticeye|funny|funny meme|memes|jacksepti...   \n3  2020-08-12T00:00:00Z  xxl freshman|xxl freshmen|2020 xxl freshman|20...   \n4  2020-08-12T00:00:00Z  The LaBrant Family|DIY|Interior Design|Makeove...   \n\n   view_count   likes  dislikes  comment_count   \n0     1514614  156908      5855          35313  \\\n1     2381688  146739      2794          16549   \n2     2038853  353787      2628          40221   \n3      496771   23251      1856           7647   \n4     1123889   45802       964           2196   \n\n                                   thumbnail_link  comments_disabled   \n0  https://i.ytimg.com/vi/3C66w5Z0ixs/default.jpg              False  \\\n1  https://i.ytimg.com/vi/M9Pmf9AB4Mo/default.jpg              False   \n2  https://i.ytimg.com/vi/J78aPJ3VyNs/default.jpg              False   \n3  https://i.ytimg.com/vi/kXLn3HkpjaA/default.jpg              False   \n4  https://i.ytimg.com/vi/VIUo6yapDbc/default.jpg              False   \n\n   ratings_disabled                                        description  \n0             False  SUBSCRIBE to BRAWADIS ▶ http://bit.ly/Subscrib...  \n1             False  While running her own modding shop, Ramya Pare...  \n2             False  I left youtube for a month and this is what ha...  \n3             False  Subscribe to XXL → http://bit.ly/subscribe-xxl...  \n4             False  Transforming The LaBrant Family's empty white ...  ",
      "text/html": "<div>\n<style scoped>\n    .dataframe tbody tr th:only-of-type {\n        vertical-align: middle;\n    }\n\n    .dataframe tbody tr th {\n        vertical-align: top;\n    }\n\n    .dataframe thead th {\n        text-align: right;\n    }\n</style>\n<table border=\"1\" class=\"dataframe\">\n  <thead>\n    <tr style=\"text-align: right;\">\n      <th></th>\n      <th>video_id</th>\n      <th>title</th>\n      <th>publishedAt</th>\n      <th>channelId</th>\n      <th>channelTitle</th>\n      <th>categoryId</th>\n      <th>trending_date</th>\n      <th>tags</th>\n      <th>view_count</th>\n      <th>likes</th>\n      <th>dislikes</th>\n      <th>comment_count</th>\n      <th>thumbnail_link</th>\n      <th>comments_disabled</th>\n      <th>ratings_disabled</th>\n      <th>description</th>\n    </tr>\n  </thead>\n  <tbody>\n    <tr>\n      <th>0</th>\n      <td>3C66w5Z0ixs</td>\n      <td>I ASKED HER TO BE MY GIRLFRIEND...</td>\n      <td>2020-08-11T19:20:14Z</td>\n      <td>UCvtRTOMP2TqYqu51xNrqAzg</td>\n      <td>Brawadis</td>\n      <td>22</td>\n      <td>2020-08-12T00:00:00Z</td>\n      <td>brawadis|prank|basketball|skits|ghost|funny vi...</td>\n      <td>1514614</td>\n      <td>156908</td>\n      <td>5855</td>\n      <td>35313</td>\n      <td>https://i.ytimg.com/vi/3C66w5Z0ixs/default.jpg</td>\n      <td>False</td>\n      <td>False</td>\n      <td>SUBSCRIBE to BRAWADIS ▶ http://bit.ly/Subscrib...</td>\n    </tr>\n    <tr>\n      <th>1</th>\n      <td>M9Pmf9AB4Mo</td>\n      <td>Apex Legends | Stories from the Outlands – “Th...</td>\n      <td>2020-08-11T17:00:10Z</td>\n      <td>UC0ZV6M2THA81QT9hrVWJG3A</td>\n      <td>Apex Legends</td>\n      <td>20</td>\n      <td>2020-08-12T00:00:00Z</td>\n      <td>Apex Legends|Apex Legends characters|new Apex ...</td>\n      <td>2381688</td>\n      <td>146739</td>\n      <td>2794</td>\n      <td>16549</td>\n      <td>https://i.ytimg.com/vi/M9Pmf9AB4Mo/default.jpg</td>\n      <td>False</td>\n      <td>False</td>\n      <td>While running her own modding shop, Ramya Pare...</td>\n    </tr>\n    <tr>\n      <th>2</th>\n      <td>J78aPJ3VyNs</td>\n      <td>I left youtube for a month and THIS is what ha...</td>\n      <td>2020-08-11T16:34:06Z</td>\n      <td>UCYzPXprvl5Y-Sf0g4vX-m6g</td>\n      <td>jacksepticeye</td>\n      <td>24</td>\n      <td>2020-08-12T00:00:00Z</td>\n      <td>jacksepticeye|funny|funny meme|memes|jacksepti...</td>\n      <td>2038853</td>\n      <td>353787</td>\n      <td>2628</td>\n      <td>40221</td>\n      <td>https://i.ytimg.com/vi/J78aPJ3VyNs/default.jpg</td>\n      <td>False</td>\n      <td>False</td>\n      <td>I left youtube for a month and this is what ha...</td>\n    </tr>\n    <tr>\n      <th>3</th>\n      <td>kXLn3HkpjaA</td>\n      <td>XXL 2020 Freshman Class Revealed - Official An...</td>\n      <td>2020-08-11T16:38:55Z</td>\n      <td>UCbg_UMjlHJg_19SZckaKajg</td>\n      <td>XXL</td>\n      <td>10</td>\n      <td>2020-08-12T00:00:00Z</td>\n      <td>xxl freshman|xxl freshmen|2020 xxl freshman|20...</td>\n      <td>496771</td>\n      <td>23251</td>\n      <td>1856</td>\n      <td>7647</td>\n      <td>https://i.ytimg.com/vi/kXLn3HkpjaA/default.jpg</td>\n      <td>False</td>\n      <td>False</td>\n      <td>Subscribe to XXL → http://bit.ly/subscribe-xxl...</td>\n    </tr>\n    <tr>\n      <th>4</th>\n      <td>VIUo6yapDbc</td>\n      <td>Ultimate DIY Home Movie Theater for The LaBran...</td>\n      <td>2020-08-11T15:10:05Z</td>\n      <td>UCDVPcEbVLQgLZX0Rt6jo34A</td>\n      <td>Mr. Kate</td>\n      <td>26</td>\n      <td>2020-08-12T00:00:00Z</td>\n      <td>The LaBrant Family|DIY|Interior Design|Makeove...</td>\n      <td>1123889</td>\n      <td>45802</td>\n      <td>964</td>\n      <td>2196</td>\n      <td>https://i.ytimg.com/vi/VIUo6yapDbc/default.jpg</td>\n      <td>False</td>\n      <td>False</td>\n      <td>Transforming The LaBrant Family's empty white ...</td>\n    </tr>\n  </tbody>\n</table>\n</div>"
     },
     "execution_count": 2,
     "metadata": {},
     "output_type": "execute_result"
    }
   ],
   "source": [
    "df.head()"
   ],
   "metadata": {
    "collapsed": false,
    "ExecuteTime": {
     "end_time": "2023-05-20T12:52:52.680543800Z",
     "start_time": "2023-05-20T12:52:52.653913700Z"
    }
   }
  },
  {
   "cell_type": "code",
   "execution_count": 3,
   "outputs": [],
   "source": [
    "df.drop([\"video_id\",\"channelId\",\"thumbnail_link\",\"comments_disabled\",\"ratings_disabled\",\"publishedAt\",\"trending_date\"],axis=1,inplace=True)\n",
    "#I deleted unuseful columns for me"
   ],
   "metadata": {
    "collapsed": false,
    "ExecuteTime": {
     "end_time": "2023-05-20T12:52:52.739472100Z",
     "start_time": "2023-05-20T12:52:52.680543800Z"
    }
   }
  },
  {
   "cell_type": "code",
   "execution_count": 4,
   "outputs": [
    {
     "data": {
      "text/plain": "                                                    title   \n0                      I ASKED HER TO BE MY GIRLFRIEND...  \\\n1       Apex Legends | Stories from the Outlands – “Th...   \n2       I left youtube for a month and THIS is what ha...   \n3       XXL 2020 Freshman Class Revealed - Official An...   \n4       Ultimate DIY Home Movie Theater for The LaBran...   \n...                                                   ...   \n202384          1,000 Deaf People Hear For The First Time   \n202385  Transformers: Rise of the Beasts | Prime Meets...   \n202386  LeBron, Lakers rally past Warriors in Game 4, ...   \n202387  Prince Louis' First Royal Engagement Alongside...   \n202388  Yahritza Y Su Esencia & Grupo Frontera - Frági...   \n\n                       channelTitle  categoryId   \n0                          Brawadis          22  \\\n1                      Apex Legends          20   \n2                     jacksepticeye          24   \n3                               XXL          10   \n4                          Mr. Kate          26   \n...                             ...         ...   \n202384                      MrBeast          24   \n202385           Paramount Pictures           1   \n202386  The Herd with Colin Cowherd          17   \n202387                10 News First          25   \n202388        Yahritza Y Su Esencia          10   \n\n                                                     tags  view_count   \n0       brawadis|prank|basketball|skits|ghost|funny vi...     1514614  \\\n1       Apex Legends|Apex Legends characters|new Apex ...     2381688   \n2       jacksepticeye|funny|funny meme|memes|jacksepti...     2038853   \n3       xxl freshman|xxl freshmen|2020 xxl freshman|20...      496771   \n4       The LaBrant Family|DIY|Interior Design|Makeove...     1123889   \n...                                                   ...         ...   \n202384                                             [None]    61586634   \n202385  transformers|transformers rise of the beasts|t...     3046048   \n202386  The Herd|Colin Cowherd|Nick Wright|FS1|FOX Spo...      300386   \n202387  10NewsFirst|TenNewsFirst|10 News First|Ten New...      943030   \n202388  yahritza y su esencia|soy el unico|yahritza ma...     9595402   \n\n          likes  dislikes  comment_count   \n0        156908      5855          35313  \\\n1        146739      2794          16549   \n2        353787      2628          40221   \n3         23251      1856           7647   \n4         45802       964           2196   \n...         ...       ...            ...   \n202384  3818072         0         137519   \n202385    59619         0           4622   \n202386     3798         0            517   \n202387     7923         0            628   \n202388   103951         0           1368   \n\n                                              description  \n0       SUBSCRIBE to BRAWADIS ▶ http://bit.ly/Subscrib...  \n1       While running her own modding shop, Ramya Pare...  \n2       I left youtube for a month and this is what ha...  \n3       Subscribe to XXL → http://bit.ly/subscribe-xxl...  \n4       Transforming The LaBrant Family's empty white ...  \n...                                                   ...  \n202384  Your support gives the Gift of Hearing.  Pleas...  \n202385  STAND DOWN. The Autobots come face to face wit...  \n202386  Nick Wright joins Colin Cowherd on The Herd to...  \n202387  Prince Louis of Wales has stepped out for his ...  \n202388  Yahritza Y Su Esencia & Grupo Frontera “Frágil...  \n\n[202389 rows x 9 columns]",
      "text/html": "<div>\n<style scoped>\n    .dataframe tbody tr th:only-of-type {\n        vertical-align: middle;\n    }\n\n    .dataframe tbody tr th {\n        vertical-align: top;\n    }\n\n    .dataframe thead th {\n        text-align: right;\n    }\n</style>\n<table border=\"1\" class=\"dataframe\">\n  <thead>\n    <tr style=\"text-align: right;\">\n      <th></th>\n      <th>title</th>\n      <th>channelTitle</th>\n      <th>categoryId</th>\n      <th>tags</th>\n      <th>view_count</th>\n      <th>likes</th>\n      <th>dislikes</th>\n      <th>comment_count</th>\n      <th>description</th>\n    </tr>\n  </thead>\n  <tbody>\n    <tr>\n      <th>0</th>\n      <td>I ASKED HER TO BE MY GIRLFRIEND...</td>\n      <td>Brawadis</td>\n      <td>22</td>\n      <td>brawadis|prank|basketball|skits|ghost|funny vi...</td>\n      <td>1514614</td>\n      <td>156908</td>\n      <td>5855</td>\n      <td>35313</td>\n      <td>SUBSCRIBE to BRAWADIS ▶ http://bit.ly/Subscrib...</td>\n    </tr>\n    <tr>\n      <th>1</th>\n      <td>Apex Legends | Stories from the Outlands – “Th...</td>\n      <td>Apex Legends</td>\n      <td>20</td>\n      <td>Apex Legends|Apex Legends characters|new Apex ...</td>\n      <td>2381688</td>\n      <td>146739</td>\n      <td>2794</td>\n      <td>16549</td>\n      <td>While running her own modding shop, Ramya Pare...</td>\n    </tr>\n    <tr>\n      <th>2</th>\n      <td>I left youtube for a month and THIS is what ha...</td>\n      <td>jacksepticeye</td>\n      <td>24</td>\n      <td>jacksepticeye|funny|funny meme|memes|jacksepti...</td>\n      <td>2038853</td>\n      <td>353787</td>\n      <td>2628</td>\n      <td>40221</td>\n      <td>I left youtube for a month and this is what ha...</td>\n    </tr>\n    <tr>\n      <th>3</th>\n      <td>XXL 2020 Freshman Class Revealed - Official An...</td>\n      <td>XXL</td>\n      <td>10</td>\n      <td>xxl freshman|xxl freshmen|2020 xxl freshman|20...</td>\n      <td>496771</td>\n      <td>23251</td>\n      <td>1856</td>\n      <td>7647</td>\n      <td>Subscribe to XXL → http://bit.ly/subscribe-xxl...</td>\n    </tr>\n    <tr>\n      <th>4</th>\n      <td>Ultimate DIY Home Movie Theater for The LaBran...</td>\n      <td>Mr. Kate</td>\n      <td>26</td>\n      <td>The LaBrant Family|DIY|Interior Design|Makeove...</td>\n      <td>1123889</td>\n      <td>45802</td>\n      <td>964</td>\n      <td>2196</td>\n      <td>Transforming The LaBrant Family's empty white ...</td>\n    </tr>\n    <tr>\n      <th>...</th>\n      <td>...</td>\n      <td>...</td>\n      <td>...</td>\n      <td>...</td>\n      <td>...</td>\n      <td>...</td>\n      <td>...</td>\n      <td>...</td>\n      <td>...</td>\n    </tr>\n    <tr>\n      <th>202384</th>\n      <td>1,000 Deaf People Hear For The First Time</td>\n      <td>MrBeast</td>\n      <td>24</td>\n      <td>[None]</td>\n      <td>61586634</td>\n      <td>3818072</td>\n      <td>0</td>\n      <td>137519</td>\n      <td>Your support gives the Gift of Hearing.  Pleas...</td>\n    </tr>\n    <tr>\n      <th>202385</th>\n      <td>Transformers: Rise of the Beasts | Prime Meets...</td>\n      <td>Paramount Pictures</td>\n      <td>1</td>\n      <td>transformers|transformers rise of the beasts|t...</td>\n      <td>3046048</td>\n      <td>59619</td>\n      <td>0</td>\n      <td>4622</td>\n      <td>STAND DOWN. The Autobots come face to face wit...</td>\n    </tr>\n    <tr>\n      <th>202386</th>\n      <td>LeBron, Lakers rally past Warriors in Game 4, ...</td>\n      <td>The Herd with Colin Cowherd</td>\n      <td>17</td>\n      <td>The Herd|Colin Cowherd|Nick Wright|FS1|FOX Spo...</td>\n      <td>300386</td>\n      <td>3798</td>\n      <td>0</td>\n      <td>517</td>\n      <td>Nick Wright joins Colin Cowherd on The Herd to...</td>\n    </tr>\n    <tr>\n      <th>202387</th>\n      <td>Prince Louis' First Royal Engagement Alongside...</td>\n      <td>10 News First</td>\n      <td>25</td>\n      <td>10NewsFirst|TenNewsFirst|10 News First|Ten New...</td>\n      <td>943030</td>\n      <td>7923</td>\n      <td>0</td>\n      <td>628</td>\n      <td>Prince Louis of Wales has stepped out for his ...</td>\n    </tr>\n    <tr>\n      <th>202388</th>\n      <td>Yahritza Y Su Esencia &amp; Grupo Frontera - Frági...</td>\n      <td>Yahritza Y Su Esencia</td>\n      <td>10</td>\n      <td>yahritza y su esencia|soy el unico|yahritza ma...</td>\n      <td>9595402</td>\n      <td>103951</td>\n      <td>0</td>\n      <td>1368</td>\n      <td>Yahritza Y Su Esencia &amp; Grupo Frontera “Frágil...</td>\n    </tr>\n  </tbody>\n</table>\n<p>202389 rows × 9 columns</p>\n</div>"
     },
     "execution_count": 4,
     "metadata": {},
     "output_type": "execute_result"
    }
   ],
   "source": [
    "df"
   ],
   "metadata": {
    "collapsed": false,
    "ExecuteTime": {
     "end_time": "2023-05-20T12:52:52.799233900Z",
     "start_time": "2023-05-20T12:52:52.704097600Z"
    }
   }
  },
  {
   "cell_type": "markdown",
   "source": [
    "### Delete Duplicate Video Titles"
   ],
   "metadata": {
    "collapsed": false
   }
  },
  {
   "cell_type": "code",
   "execution_count": 5,
   "outputs": [
    {
     "data": {
      "text/plain": "                                                    title   \n13       Lil Yachty & Future - Pardon Me (Official Video)  \\\n58                                       Bonsai Fish Tank   \n172                    How To Make a Curried Egg Sandwich   \n173     Cake Rescue Fixing Viral Cake Fails | How To C...   \n174                    Son, lemme teach you something new   \n...                                                   ...   \n202384          1,000 Deaf People Hear For The First Time   \n202385  Transformers: Rise of the Beasts | Prime Meets...   \n202386  LeBron, Lakers rally past Warriors in Game 4, ...   \n202387  Prince Louis' First Royal Engagement Alongside...   \n202388  Yahritza Y Su Esencia & Grupo Frontera - Frági...   \n\n                       channelTitle  categoryId   \n13                    LilYachtyVEVO          10  \\\n58                      JunsKitchen          26   \n172                      HowToBasic          26   \n173                How To Cook That          24   \n174                      Bread Boys          24   \n...                             ...         ...   \n202384                      MrBeast          24   \n202385           Paramount Pictures           1   \n202386  The Herd with Colin Cowherd          17   \n202387                10 News First          25   \n202388        Yahritza Y Su Esencia          10   \n\n                                                     tags  view_count   \n13      Lil Yachty|Lil Boat 3|Future Lil Yachty|Pardon...      413372  \\\n58      taking|cats|walk|jun|junskitchen|juns kitchen|...      307888   \n172     how to make a curried egg sandwich|curried egg...     1238677   \n173     cake rescue|caek fail|viral cake fails|funny c...      938198   \n174                                                [None]     1722152   \n...                                                   ...         ...   \n202384                                             [None]    61586634   \n202385  transformers|transformers rise of the beasts|t...     3046048   \n202386  The Herd|Colin Cowherd|Nick Wright|FS1|FOX Spo...      300386   \n202387  10NewsFirst|TenNewsFirst|10 News First|Ten New...      943030   \n202388  yahritza y su esencia|soy el unico|yahritza ma...     9595402   \n\n          likes  dislikes  comment_count   \n13        26440       293           1495  \\\n58        49300       139           2925   \n172      104736      3736          13876   \n173       44088       565           2409   \n174      169501       927           7263   \n...         ...       ...            ...   \n202384  3818072         0         137519   \n202385    59619         0           4622   \n202386     3798         0            517   \n202387     7923         0            628   \n202388   103951         0           1368   \n\n                                              description  \n13      Watch the official video for Lil Yachty & Futu...  \n58      I've been wanting to do aquaponics (growing ve...  \n172     Today I show you how to make a curried egg san...  \n173     Cake Rescue: viral cake fails,  how to rescue ...  \n174     badum tss *funny haha noises*YOU CAN FIND US H...  \n...                                                   ...  \n202384  Your support gives the Gift of Hearing.  Pleas...  \n202385  STAND DOWN. The Autobots come face to face wit...  \n202386  Nick Wright joins Colin Cowherd on The Herd to...  \n202387  Prince Louis of Wales has stepped out for his ...  \n202388  Yahritza Y Su Esencia & Grupo Frontera “Frágil...  \n\n[37741 rows x 9 columns]",
      "text/html": "<div>\n<style scoped>\n    .dataframe tbody tr th:only-of-type {\n        vertical-align: middle;\n    }\n\n    .dataframe tbody tr th {\n        vertical-align: top;\n    }\n\n    .dataframe thead th {\n        text-align: right;\n    }\n</style>\n<table border=\"1\" class=\"dataframe\">\n  <thead>\n    <tr style=\"text-align: right;\">\n      <th></th>\n      <th>title</th>\n      <th>channelTitle</th>\n      <th>categoryId</th>\n      <th>tags</th>\n      <th>view_count</th>\n      <th>likes</th>\n      <th>dislikes</th>\n      <th>comment_count</th>\n      <th>description</th>\n    </tr>\n  </thead>\n  <tbody>\n    <tr>\n      <th>13</th>\n      <td>Lil Yachty &amp; Future - Pardon Me (Official Video)</td>\n      <td>LilYachtyVEVO</td>\n      <td>10</td>\n      <td>Lil Yachty|Lil Boat 3|Future Lil Yachty|Pardon...</td>\n      <td>413372</td>\n      <td>26440</td>\n      <td>293</td>\n      <td>1495</td>\n      <td>Watch the official video for Lil Yachty &amp; Futu...</td>\n    </tr>\n    <tr>\n      <th>58</th>\n      <td>Bonsai Fish Tank</td>\n      <td>JunsKitchen</td>\n      <td>26</td>\n      <td>taking|cats|walk|jun|junskitchen|juns kitchen|...</td>\n      <td>307888</td>\n      <td>49300</td>\n      <td>139</td>\n      <td>2925</td>\n      <td>I've been wanting to do aquaponics (growing ve...</td>\n    </tr>\n    <tr>\n      <th>172</th>\n      <td>How To Make a Curried Egg Sandwich</td>\n      <td>HowToBasic</td>\n      <td>26</td>\n      <td>how to make a curried egg sandwich|curried egg...</td>\n      <td>1238677</td>\n      <td>104736</td>\n      <td>3736</td>\n      <td>13876</td>\n      <td>Today I show you how to make a curried egg san...</td>\n    </tr>\n    <tr>\n      <th>173</th>\n      <td>Cake Rescue Fixing Viral Cake Fails | How To C...</td>\n      <td>How To Cook That</td>\n      <td>24</td>\n      <td>cake rescue|caek fail|viral cake fails|funny c...</td>\n      <td>938198</td>\n      <td>44088</td>\n      <td>565</td>\n      <td>2409</td>\n      <td>Cake Rescue: viral cake fails,  how to rescue ...</td>\n    </tr>\n    <tr>\n      <th>174</th>\n      <td>Son, lemme teach you something new</td>\n      <td>Bread Boys</td>\n      <td>24</td>\n      <td>[None]</td>\n      <td>1722152</td>\n      <td>169501</td>\n      <td>927</td>\n      <td>7263</td>\n      <td>badum tss *funny haha noises*YOU CAN FIND US H...</td>\n    </tr>\n    <tr>\n      <th>...</th>\n      <td>...</td>\n      <td>...</td>\n      <td>...</td>\n      <td>...</td>\n      <td>...</td>\n      <td>...</td>\n      <td>...</td>\n      <td>...</td>\n      <td>...</td>\n    </tr>\n    <tr>\n      <th>202384</th>\n      <td>1,000 Deaf People Hear For The First Time</td>\n      <td>MrBeast</td>\n      <td>24</td>\n      <td>[None]</td>\n      <td>61586634</td>\n      <td>3818072</td>\n      <td>0</td>\n      <td>137519</td>\n      <td>Your support gives the Gift of Hearing.  Pleas...</td>\n    </tr>\n    <tr>\n      <th>202385</th>\n      <td>Transformers: Rise of the Beasts | Prime Meets...</td>\n      <td>Paramount Pictures</td>\n      <td>1</td>\n      <td>transformers|transformers rise of the beasts|t...</td>\n      <td>3046048</td>\n      <td>59619</td>\n      <td>0</td>\n      <td>4622</td>\n      <td>STAND DOWN. The Autobots come face to face wit...</td>\n    </tr>\n    <tr>\n      <th>202386</th>\n      <td>LeBron, Lakers rally past Warriors in Game 4, ...</td>\n      <td>The Herd with Colin Cowherd</td>\n      <td>17</td>\n      <td>The Herd|Colin Cowherd|Nick Wright|FS1|FOX Spo...</td>\n      <td>300386</td>\n      <td>3798</td>\n      <td>0</td>\n      <td>517</td>\n      <td>Nick Wright joins Colin Cowherd on The Herd to...</td>\n    </tr>\n    <tr>\n      <th>202387</th>\n      <td>Prince Louis' First Royal Engagement Alongside...</td>\n      <td>10 News First</td>\n      <td>25</td>\n      <td>10NewsFirst|TenNewsFirst|10 News First|Ten New...</td>\n      <td>943030</td>\n      <td>7923</td>\n      <td>0</td>\n      <td>628</td>\n      <td>Prince Louis of Wales has stepped out for his ...</td>\n    </tr>\n    <tr>\n      <th>202388</th>\n      <td>Yahritza Y Su Esencia &amp; Grupo Frontera - Frági...</td>\n      <td>Yahritza Y Su Esencia</td>\n      <td>10</td>\n      <td>yahritza y su esencia|soy el unico|yahritza ma...</td>\n      <td>9595402</td>\n      <td>103951</td>\n      <td>0</td>\n      <td>1368</td>\n      <td>Yahritza Y Su Esencia &amp; Grupo Frontera “Frágil...</td>\n    </tr>\n  </tbody>\n</table>\n<p>37741 rows × 9 columns</p>\n</div>"
     },
     "execution_count": 5,
     "metadata": {},
     "output_type": "execute_result"
    }
   ],
   "source": [
    "df.drop_duplicates(subset=['title'],keep=\"last\",inplace=True)\n",
    "df\n",
    "#The \"last\" value in the keep= parameter preserves the last repeated value."
   ],
   "metadata": {
    "collapsed": false,
    "ExecuteTime": {
     "end_time": "2023-05-20T12:52:52.800231500Z",
     "start_time": "2023-05-20T12:52:52.739472100Z"
    }
   }
  },
  {
   "cell_type": "markdown",
   "source": [
    "### Most trending channels (Different Videos)"
   ],
   "metadata": {
    "collapsed": false
   }
  },
  {
   "cell_type": "code",
   "execution_count": 6,
   "outputs": [
    {
     "data": {
      "text/plain": "channelTitle\nNBA                       351\nNFL                       334\nNBC Sports                136\nSSundee                   115\nESPN                      104\n                         ... \nDianfleur                   1\nWilljum                     1\nAT&T                        1\nHarry Jowsey                1\nTHIRTY SECONDS TO MARS      1\nName: count, Length: 7431, dtype: int64"
     },
     "execution_count": 6,
     "metadata": {},
     "output_type": "execute_result"
    }
   ],
   "source": [
    "df[\"channelTitle\"].value_counts() #The most trending channel is NBA"
   ],
   "metadata": {
    "collapsed": false,
    "ExecuteTime": {
     "end_time": "2023-05-20T12:52:52.850375300Z",
     "start_time": "2023-05-20T12:52:52.767398600Z"
    }
   }
  },
  {
   "cell_type": "markdown",
   "source": [
    "### Most liked & unliked videos"
   ],
   "metadata": {
    "collapsed": false
   }
  },
  {
   "cell_type": "code",
   "execution_count": 7,
   "outputs": [
    {
     "data": {
      "text/plain": "                                                    title       channelTitle   \n56374                    BTS (방탄소년단) 'Butter' Official MV        HYBE LABELS  \\\n3358                   BTS (방탄소년단) 'Dynamite' Official MV     Big Hit Labels   \n152788                       BLACKPINK - ‘Pink Venom’ M/V          BLACKPINK   \n68979       BTS (방탄소년단) 'Permission to Dance' Official MV        HYBE LABELS   \n4980      BLACKPINK - 'Ice Cream (with Selena Gomez)' M/V          BLACKPINK   \n...                                                   ...                ...   \n97384   Sia - Fly Me To The Moon (Inspired by FINAL FA...  FINAL FANTASY XIV   \n51161                               Earth Day 2021 Doodle      GoogleDoodles   \n50969         Celebrating Luther Vandross's 70th Birthday      GoogleDoodles   \n6583    What I think of Selena Gomez's Rare Beauty Lin...      PatrickStarrr   \n146599  Samsung Galaxy Unpacked August 2022: Official ...            Samsung   \n\n           likes  \n56374   16021534  \n3358    15735533  \n152788  12993894  \n68979   12117314  \n4980    11795670  \n...          ...  \n97384          0  \n51161          0  \n50969          0  \n6583           0  \n146599         0  \n\n[37741 rows x 3 columns]",
      "text/html": "<div>\n<style scoped>\n    .dataframe tbody tr th:only-of-type {\n        vertical-align: middle;\n    }\n\n    .dataframe tbody tr th {\n        vertical-align: top;\n    }\n\n    .dataframe thead th {\n        text-align: right;\n    }\n</style>\n<table border=\"1\" class=\"dataframe\">\n  <thead>\n    <tr style=\"text-align: right;\">\n      <th></th>\n      <th>title</th>\n      <th>channelTitle</th>\n      <th>likes</th>\n    </tr>\n  </thead>\n  <tbody>\n    <tr>\n      <th>56374</th>\n      <td>BTS (방탄소년단) 'Butter' Official MV</td>\n      <td>HYBE LABELS</td>\n      <td>16021534</td>\n    </tr>\n    <tr>\n      <th>3358</th>\n      <td>BTS (방탄소년단) 'Dynamite' Official MV</td>\n      <td>Big Hit Labels</td>\n      <td>15735533</td>\n    </tr>\n    <tr>\n      <th>152788</th>\n      <td>BLACKPINK - ‘Pink Venom’ M/V</td>\n      <td>BLACKPINK</td>\n      <td>12993894</td>\n    </tr>\n    <tr>\n      <th>68979</th>\n      <td>BTS (방탄소년단) 'Permission to Dance' Official MV</td>\n      <td>HYBE LABELS</td>\n      <td>12117314</td>\n    </tr>\n    <tr>\n      <th>4980</th>\n      <td>BLACKPINK - 'Ice Cream (with Selena Gomez)' M/V</td>\n      <td>BLACKPINK</td>\n      <td>11795670</td>\n    </tr>\n    <tr>\n      <th>...</th>\n      <td>...</td>\n      <td>...</td>\n      <td>...</td>\n    </tr>\n    <tr>\n      <th>97384</th>\n      <td>Sia - Fly Me To The Moon (Inspired by FINAL FA...</td>\n      <td>FINAL FANTASY XIV</td>\n      <td>0</td>\n    </tr>\n    <tr>\n      <th>51161</th>\n      <td>Earth Day 2021 Doodle</td>\n      <td>GoogleDoodles</td>\n      <td>0</td>\n    </tr>\n    <tr>\n      <th>50969</th>\n      <td>Celebrating Luther Vandross's 70th Birthday</td>\n      <td>GoogleDoodles</td>\n      <td>0</td>\n    </tr>\n    <tr>\n      <th>6583</th>\n      <td>What I think of Selena Gomez's Rare Beauty Lin...</td>\n      <td>PatrickStarrr</td>\n      <td>0</td>\n    </tr>\n    <tr>\n      <th>146599</th>\n      <td>Samsung Galaxy Unpacked August 2022: Official ...</td>\n      <td>Samsung</td>\n      <td>0</td>\n    </tr>\n  </tbody>\n</table>\n<p>37741 rows × 3 columns</p>\n</div>"
     },
     "execution_count": 7,
     "metadata": {},
     "output_type": "execute_result"
    }
   ],
   "source": [
    "df[[\"title\",\"channelTitle\",\"likes\",]].sort_values(by='likes',ascending=False)"
   ],
   "metadata": {
    "collapsed": false,
    "ExecuteTime": {
     "end_time": "2023-05-20T12:52:52.880350600Z",
     "start_time": "2023-05-20T12:52:52.789261Z"
    }
   }
  },
  {
   "cell_type": "code",
   "execution_count": 8,
   "outputs": [
    {
     "data": {
      "text/plain": "                                                    title   \n4980      BLACKPINK - 'Ice Cream (with Selena Gomez)' M/V  \\\n3358                   BTS (방탄소년단) 'Dynamite' Official MV   \n985     Cardi B - WAP feat. Megan Thee Stallion [Offic...   \n46161   Lil Nas X - MONTERO (Call Me By Your Name) (Of...   \n85757                   La 69 - Jenny69 ( Video Oficial )   \n...                                                   ...   \n131980  Bunzo Bunny / Making Musical Memory Room [Popp...   \n131979  The massive Fatigue Carousel helps keep roads ...   \n131978  Mario Strikers: Battle League - So Much Fun It...   \n131977          Thor: Love and Thunder - Trailer Reaction   \n202388  Yahritza Y Su Esencia & Grupo Frontera - Frági...   \n\n                 channelTitle  dislikes  \n4980                BLACKPINK    879354  \n3358           Big Hit Labels    714194  \n985                   Cardi B    467717  \n46161             LilNasXVEVO    290208  \n85757            Lumbre Music    253992  \n...                       ...       ...  \n131980              GURU Clay         0  \n131979              Tom Scott         0  \n131978               Nintendo         0  \n131977        Heroes Reforged         0  \n202388  Yahritza Y Su Esencia         0  \n\n[37741 rows x 3 columns]",
      "text/html": "<div>\n<style scoped>\n    .dataframe tbody tr th:only-of-type {\n        vertical-align: middle;\n    }\n\n    .dataframe tbody tr th {\n        vertical-align: top;\n    }\n\n    .dataframe thead th {\n        text-align: right;\n    }\n</style>\n<table border=\"1\" class=\"dataframe\">\n  <thead>\n    <tr style=\"text-align: right;\">\n      <th></th>\n      <th>title</th>\n      <th>channelTitle</th>\n      <th>dislikes</th>\n    </tr>\n  </thead>\n  <tbody>\n    <tr>\n      <th>4980</th>\n      <td>BLACKPINK - 'Ice Cream (with Selena Gomez)' M/V</td>\n      <td>BLACKPINK</td>\n      <td>879354</td>\n    </tr>\n    <tr>\n      <th>3358</th>\n      <td>BTS (방탄소년단) 'Dynamite' Official MV</td>\n      <td>Big Hit Labels</td>\n      <td>714194</td>\n    </tr>\n    <tr>\n      <th>985</th>\n      <td>Cardi B - WAP feat. Megan Thee Stallion [Offic...</td>\n      <td>Cardi B</td>\n      <td>467717</td>\n    </tr>\n    <tr>\n      <th>46161</th>\n      <td>Lil Nas X - MONTERO (Call Me By Your Name) (Of...</td>\n      <td>LilNasXVEVO</td>\n      <td>290208</td>\n    </tr>\n    <tr>\n      <th>85757</th>\n      <td>La 69 - Jenny69 ( Video Oficial )</td>\n      <td>Lumbre Music</td>\n      <td>253992</td>\n    </tr>\n    <tr>\n      <th>...</th>\n      <td>...</td>\n      <td>...</td>\n      <td>...</td>\n    </tr>\n    <tr>\n      <th>131980</th>\n      <td>Bunzo Bunny / Making Musical Memory Room [Popp...</td>\n      <td>GURU Clay</td>\n      <td>0</td>\n    </tr>\n    <tr>\n      <th>131979</th>\n      <td>The massive Fatigue Carousel helps keep roads ...</td>\n      <td>Tom Scott</td>\n      <td>0</td>\n    </tr>\n    <tr>\n      <th>131978</th>\n      <td>Mario Strikers: Battle League - So Much Fun It...</td>\n      <td>Nintendo</td>\n      <td>0</td>\n    </tr>\n    <tr>\n      <th>131977</th>\n      <td>Thor: Love and Thunder - Trailer Reaction</td>\n      <td>Heroes Reforged</td>\n      <td>0</td>\n    </tr>\n    <tr>\n      <th>202388</th>\n      <td>Yahritza Y Su Esencia &amp; Grupo Frontera - Frági...</td>\n      <td>Yahritza Y Su Esencia</td>\n      <td>0</td>\n    </tr>\n  </tbody>\n</table>\n<p>37741 rows × 3 columns</p>\n</div>"
     },
     "execution_count": 8,
     "metadata": {},
     "output_type": "execute_result"
    }
   ],
   "source": [
    "df[[\"title\",\"channelTitle\",\"dislikes\"]].sort_values(by='dislikes',ascending=False)"
   ],
   "metadata": {
    "collapsed": false,
    "ExecuteTime": {
     "end_time": "2023-05-20T12:52:52.946782900Z",
     "start_time": "2023-05-20T12:52:52.827795400Z"
    }
   }
  },
  {
   "cell_type": "markdown",
   "source": [
    "### Getting the Tags"
   ],
   "metadata": {
    "collapsed": false
   }
  },
  {
   "cell_type": "code",
   "execution_count": 9,
   "outputs": [],
   "source": [
    "def tags_get(index,dataFrame=df):\n",
    "    \"\"\"\n",
    "    Parameters\n",
    "    ----------\n",
    "    index:\n",
    "        Video's index number\n",
    "\n",
    "    dataFrame:\n",
    "        Variable name of dataset\n",
    "\n",
    "    Returns list\n",
    "    -------\n",
    "    \"\"\"\n",
    "    tags = dataFrame.iloc[index][\"tags\"]\n",
    "    tags = tags.split(\"|\")\n",
    "    return tags"
   ],
   "metadata": {
    "collapsed": false,
    "ExecuteTime": {
     "end_time": "2023-05-20T12:52:52.989667900Z",
     "start_time": "2023-05-20T12:52:52.855870800Z"
    }
   }
  },
  {
   "cell_type": "code",
   "execution_count": 10,
   "outputs": [
    {
     "data": {
      "text/plain": "['harry potter',\n 'wizarding world',\n 'back to hogwarts',\n 'vick hope',\n 'fantastic beasts',\n 'harry potter fan club',\n '1st september',\n 'the wizarding world',\n 'jk rowling',\n 'hogwarts',\n 'harry',\n 'potter']"
     },
     "execution_count": 10,
     "metadata": {},
     "output_type": "execute_result"
    }
   ],
   "source": [
    "tags_get(985,df)"
   ],
   "metadata": {
    "collapsed": false,
    "ExecuteTime": {
     "end_time": "2023-05-20T12:52:53.003630900Z",
     "start_time": "2023-05-20T12:52:52.863496700Z"
    }
   }
  },
  {
   "cell_type": "markdown",
   "source": [
    "### Like Rate (Like/View)"
   ],
   "metadata": {
    "collapsed": false
   }
  },
  {
   "cell_type": "code",
   "execution_count": 17,
   "outputs": [],
   "source": [
    "df[\"like_rate\"] = df[\"likes\"] / df[\"dislikes\"]\n",
    "#I changed inf to NaN and I deleted they thank to .dropna module\n",
    "df.replace(np.Inf,np.nan,inplace=True)\n",
    "df.dropna(subset=\"like_rate\", inplace=True)"
   ],
   "metadata": {
    "collapsed": false,
    "ExecuteTime": {
     "end_time": "2023-05-20T12:54:24.395381800Z",
     "start_time": "2023-05-20T12:54:24.375095700Z"
    }
   }
  },
  {
   "cell_type": "code",
   "execution_count": 16,
   "outputs": [
    {
     "data": {
      "text/plain": "                                                   title   \n98087  Ryan And Shane New Ghost Hunting Show - Ghost ...  \\\n14983                                   ghost + guest 👻🎶   \n59570  [T:TIME] ‘0X1=LOVESONG (I Know I Love You) fea...   \n50381  Liam Payne - I'm Back! Where I've Been, Seaspi...   \n97173  ATEEZ(에이티즈) - ‘야간비행 (Turbulence)’ Official MV ...   \n...                                                  ...   \n85757                  La 69 - Jenny69 ( Video Oficial )   \n87769  Home Sweet Home Alone | Official Trailer | Dis...   \n58762                               SUMMER OUTFITS 2021!   \n13527                          Why We Joined Bon Appétit   \n93370                  Update to YouTube's Dislike Count   \n\n                       channelTitle    like_rate  \n98087                       Watcher  1538.766234  \n14983                    Louie Zong  1418.598039  \n59570  TOMORROW X TOGETHER OFFICIAL  1046.872727  \n50381           Liam Payne Official  1037.456693  \n97173              KQ ENTERTAINMENT   953.296296  \n...                             ...          ...  \n85757                  Lumbre Music     0.251776  \n87769          20th Century Studios     0.245624  \n58762                Eugenia Cooney     0.190782  \n13527                   Bon Appétit     0.139612  \n93370              YouTube Creators     0.110409  \n\n[17705 rows x 3 columns]",
      "text/html": "<div>\n<style scoped>\n    .dataframe tbody tr th:only-of-type {\n        vertical-align: middle;\n    }\n\n    .dataframe tbody tr th {\n        vertical-align: top;\n    }\n\n    .dataframe thead th {\n        text-align: right;\n    }\n</style>\n<table border=\"1\" class=\"dataframe\">\n  <thead>\n    <tr style=\"text-align: right;\">\n      <th></th>\n      <th>title</th>\n      <th>channelTitle</th>\n      <th>like_rate</th>\n    </tr>\n  </thead>\n  <tbody>\n    <tr>\n      <th>98087</th>\n      <td>Ryan And Shane New Ghost Hunting Show - Ghost ...</td>\n      <td>Watcher</td>\n      <td>1538.766234</td>\n    </tr>\n    <tr>\n      <th>14983</th>\n      <td>ghost + guest 👻🎶</td>\n      <td>Louie Zong</td>\n      <td>1418.598039</td>\n    </tr>\n    <tr>\n      <th>59570</th>\n      <td>[T:TIME] ‘0X1=LOVESONG (I Know I Love You) fea...</td>\n      <td>TOMORROW X TOGETHER OFFICIAL</td>\n      <td>1046.872727</td>\n    </tr>\n    <tr>\n      <th>50381</th>\n      <td>Liam Payne - I'm Back! Where I've Been, Seaspi...</td>\n      <td>Liam Payne Official</td>\n      <td>1037.456693</td>\n    </tr>\n    <tr>\n      <th>97173</th>\n      <td>ATEEZ(에이티즈) - ‘야간비행 (Turbulence)’ Official MV ...</td>\n      <td>KQ ENTERTAINMENT</td>\n      <td>953.296296</td>\n    </tr>\n    <tr>\n      <th>...</th>\n      <td>...</td>\n      <td>...</td>\n      <td>...</td>\n    </tr>\n    <tr>\n      <th>85757</th>\n      <td>La 69 - Jenny69 ( Video Oficial )</td>\n      <td>Lumbre Music</td>\n      <td>0.251776</td>\n    </tr>\n    <tr>\n      <th>87769</th>\n      <td>Home Sweet Home Alone | Official Trailer | Dis...</td>\n      <td>20th Century Studios</td>\n      <td>0.245624</td>\n    </tr>\n    <tr>\n      <th>58762</th>\n      <td>SUMMER OUTFITS 2021!</td>\n      <td>Eugenia Cooney</td>\n      <td>0.190782</td>\n    </tr>\n    <tr>\n      <th>13527</th>\n      <td>Why We Joined Bon Appétit</td>\n      <td>Bon Appétit</td>\n      <td>0.139612</td>\n    </tr>\n    <tr>\n      <th>93370</th>\n      <td>Update to YouTube's Dislike Count</td>\n      <td>YouTube Creators</td>\n      <td>0.110409</td>\n    </tr>\n  </tbody>\n</table>\n<p>17705 rows × 3 columns</p>\n</div>"
     },
     "execution_count": 16,
     "metadata": {},
     "output_type": "execute_result"
    }
   ],
   "source": [
    "df[[\"title\",\"channelTitle\",\"like_rate\"]].sort_values(by=\"like_rate\",ascending=False)"
   ],
   "metadata": {
    "collapsed": false,
    "ExecuteTime": {
     "end_time": "2023-05-20T12:54:20.139383300Z",
     "start_time": "2023-05-20T12:54:20.132403400Z"
    }
   }
  },
  {
   "cell_type": "code",
   "execution_count": null,
   "outputs": [],
   "source": [],
   "metadata": {
    "collapsed": false
   }
  }
 ],
 "metadata": {
  "kernelspec": {
   "display_name": "Python 3",
   "language": "python",
   "name": "python3"
  },
  "language_info": {
   "codemirror_mode": {
    "name": "ipython",
    "version": 2
   },
   "file_extension": ".py",
   "mimetype": "text/x-python",
   "name": "python",
   "nbconvert_exporter": "python",
   "pygments_lexer": "ipython2",
   "version": "2.7.6"
  }
 },
 "nbformat": 4,
 "nbformat_minor": 0
}
